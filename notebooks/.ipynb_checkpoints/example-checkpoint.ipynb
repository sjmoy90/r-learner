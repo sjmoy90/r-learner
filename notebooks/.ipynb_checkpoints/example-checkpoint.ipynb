{
 "cells": [
  {
   "cell_type": "markdown",
   "id": "34db5b1b",
   "metadata": {},
   "source": [
    "# R-Learner"
   ]
  },
  {
   "cell_type": "markdown",
   "id": "c6f42c13",
   "metadata": {},
   "source": [
    "The R-Learner is a metalearner inspired by [Robinson (1988)](https://www.jstor.org/stable/1912705). Estimation occurs in two steps:\n",
    "\n",
    "1. Estimate two models: (i) an \"outcome\" model, $E(Y\\mid X)$, and (ii) a \"propensity score\" model, $E(T\\mid X)$. Use these models to residualize outcome $Y$ and treatment $T$ to obtain $\\tilde{Y}$ and $\\tilde{T}$, respectively. As in [DML](https://arxiv.org/pdf/1608.00060.pdf), residualization should be done using cross-fitted model predictions.\n",
    "2. Estimate the auxiliary regression, $\\tilde{Y} \\sim \\tilde{Z}$, to obtain the CATE function, where $\\tilde{Z} = \\tilde{T} \\tau(X)$.\n",
    "\n",
    "For a detailed overview of the R-Learner, see [Nie and Wager (2020)](https://arxiv.org/pdf/1712.04912.pdf)."
   ]
  },
  {
   "cell_type": "markdown",
   "id": "2263c05f",
   "metadata": {},
   "source": [
    "## Other Useful Resources"
   ]
  },
  {
   "cell_type": "markdown",
   "id": "0ae4fa29",
   "metadata": {},
   "source": [
    "Please refer to [causalml](https://github.com/uber/causalml/blob/master/README.md) and [EconML](https://github.com/py-why/EconML/blob/main/README.md) GitHub repositories for more useful resources."
   ]
  },
  {
   "cell_type": "markdown",
   "id": "7812eeb0",
   "metadata": {},
   "source": [
    "## Example"
   ]
  },
  {
   "cell_type": "markdown",
   "id": "ae5b85c0",
   "metadata": {},
   "source": [
    "In this notebook, we assess the performance of these CATE estimators on synthetic data.\n",
    "\n",
    "**Notebook contents:**\n",
    "\n",
    "1. Example usage with synthetic data\n",
    "\n",
    "2. Example usage with semi-synthetic data\n",
    "\n",
    "*Note: this notebook borrows heavily from the [EconML GitHub repository](https://github.com/py-why/EconML/tree/main) on Github. See [notebook](https://github.com/py-why/EconML/blob/main/notebooks/Metalearners%20Examples.ipynb).*"
   ]
  },
  {
   "cell_type": "code",
   "execution_count": 24,
   "id": "fee4cd61",
   "metadata": {},
   "outputs": [],
   "source": [
    "# base packages\n",
    "import os\n",
    "import sys\n",
    "sys.path.append(os.path.abspath('..'))\n",
    "\n",
    "# import packages\n",
    "import matplotlib.pyplot as plt\n",
    "import numpy as np\n",
    "from sklearn.model_selection import cross_val_predict, GridSearchCV\n",
    "from xgboost import XGBClassifier, XGBRegressor\n",
    "\n",
    "# user-defined packages\n",
    "from helper.data_utilities import generate_data_example1, generate_data_example2\n",
    "\n",
    "%matplotlib inline"
   ]
  },
  {
   "cell_type": "markdown",
   "id": "b7bbfc2b",
   "metadata": {},
   "source": [
    "## 1. Example Usage with Synthetic Data"
   ]
  },
  {
   "cell_type": "markdown",
   "id": "c932ea8d",
   "metadata": {},
   "source": [
    "### 1.1. DGP"
   ]
  },
  {
   "cell_type": "markdown",
   "id": "a5ac359f",
   "metadata": {},
   "source": [
    "We use the data generating process (DGP) from [Kunzel et al.](https://arxiv.org/abs/1706.03461). The DGP is described by the following equations:\n",
    "\n",
    "$\n",
    "Y = \\mu_1(x) \\cdot T + \\mu_0(x) \\cdot (1-T) + \\epsilon \\\\\n",
    "T \\sim Bern(e(x)), \\; e(x) = P(T=1|X=x)\n",
    "$\n",
    "\n",
    "where \n",
    "\n",
    "$\n",
    "\\mu_0(x) = x^T\\beta,\\; with \\;\\beta\\sim Unif([-3, 3]^d),\\; X_i \\sim N(0, \\Sigma)\\\\\n",
    "\\mu_1(x) = \\mu_0(x) + 8 \\mathbb{I}(x_2>0.1) => CATE(x) = 8 \\mathbb{I}(x_2>0.1)\n",
    "$"
   ]
  },
  {
   "cell_type": "code",
   "execution_count": 59,
   "id": "edbee2e5",
   "metadata": {},
   "outputs": [],
   "source": [
    "# DGP constants\n",
    "d = 5         # dim(X_i)\n",
    "n = 1000      # num train obs\n",
    "n_test = 250  # num test obs\n",
    "\n",
    "Y, T, X, X_test, treatment_effect = generate_data_example1(d, n, n_test, seed=123)"
   ]
  },
  {
   "cell_type": "code",
   "execution_count": 64,
   "id": "5231f690",
   "metadata": {},
   "outputs": [],
   "source": [
    "class RLearner:\n",
    "    def __init__(\n",
    "        self,\n",
    "        outcome_model,\n",
    "        propensity_model,\n",
    "        tau_model\n",
    "    ):\n",
    "        self.outcome_model = outcome_model\n",
    "        self.propensity_model = propensity_model\n",
    "        self.tau_model = tau_model\n",
    "\n",
    "    def fit(self, X, Y, T):\n",
    "        \"\"\"\n",
    "        Fit R-learner.\n",
    "        \"\"\"\n",
    "        # step 1\n",
    "        Y_tilde, T_tilde = self._fit_step1(X, Y, T)\n",
    "        \n",
    "        # step 2\n",
    "        self._fit_step2(X, Y_tilde, T_tilde)\n",
    "        return\n",
    "    \n",
    "    def predict(self, X):\n",
    "        te = self.tau_model.predict(X)\n",
    "        return te\n",
    "    \n",
    "    def tune(\n",
    "        self, X, Y, T,\n",
    "        param_grid_outcome_model=None,\n",
    "        param_grid_propensity_model=None,\n",
    "        param_grid_tau_model=None\n",
    "    ):\n",
    "        \"\"\"\n",
    "        Tune R-Learner outcome model, propensity model, and treatment effect model.\n",
    "        \"\"\"\n",
    "        if param_grid_outcome_model:\n",
    "            print('Tuning outcome model...')\n",
    "            best_params_outcome_model = self._tune(self.outcome_model, param_grid_outcome_model, X, Y)\n",
    "            print('Best hyperparameters for outcome model:')\n",
    "            print(best_params_outcome_model)\n",
    "            self._update(self.outcome_model, best_params_outcome_model)\n",
    "        if param_grid_propensity_model:\n",
    "            print('Tuning propensity model...')\n",
    "            best_params_propensity_model = self._tune(self.propensity_model, param_grid_propensity_model, X, T)\n",
    "            print('Best hyperparameters for propensity model:')\n",
    "            print(best_params_propensity_model)\n",
    "            self._update(self.propensity_model, best_params_propensity_model)\n",
    "        if param_grid_tau_model:\n",
    "            Y_tilde, T_tilde = self._fit_step1(X, Y, T)\n",
    "            pseudo_outcome = Y_tilde / T_tilde\n",
    "            weights = T_tilde ** 2\n",
    "            print('Tuning treatment effect model...')\n",
    "            best_params_tau_model = self._tune(self.tau_model, param_grid_tau_model, X, pseudo_outcome, weights)\n",
    "            print('Best hyperparameters for tau model:')\n",
    "            print(best_params_tau_model)\n",
    "        return\n",
    "\n",
    "    def _fit_step1(self, X, Y, T):\n",
    "        \"\"\"\n",
    "        Residualize outcome, Y, and treatment, T.\n",
    "        \"\"\"\n",
    "        Y_tilde = self._residualize(self.outcome_model, X, Y)\n",
    "        T_tilde = self._residualize(self.propensity_model, X, T)\n",
    "        return Y_tilde, T_tilde\n",
    "\n",
    "    def _fit_step2(self, X, Y_tilde, T_tilde):\n",
    "        \"\"\"\n",
    "        Define pseudo-outcome and sample weights, then fit CATE model.\n",
    "        \"\"\"\n",
    "        pseudo_outcome = Y_tilde / T_tilde\n",
    "        weights = T_tilde ** 2\n",
    "\n",
    "        self.tau_model.fit(X, pseudo_outcome, sample_weight=weights)\n",
    "        return\n",
    "\n",
    "    def _residualize(self, model, X, Y):\n",
    "        \"\"\"\n",
    "        Train model and residualize using cross-fitted predictions.\n",
    "        \"\"\"\n",
    "        Y_hat = cross_val_predict(outcome_model, X, Y, cv=5)\n",
    "        Y_tilde = Y - Y_hat\n",
    "        return Y_tilde\n",
    "    \n",
    "    def _tune(self, model, param_grid, X, Y, weights=None):\n",
    "        \"\"\"\n",
    "        Tune a model using grid search over hyperparameter grid.\n",
    "        \"\"\"\n",
    "        model_cv = GridSearchCV(estimator=model, param_grid=param_grid)\n",
    "        model_cv.fit(X, Y, sample_weight=weights)\n",
    "        return model_cv.best_params_\n",
    "    \n",
    "    def _update(self, obj, params):\n",
    "        \"\"\"\n",
    "        Update attributes of an object.\n",
    "        \"\"\"\n",
    "        for key, value in params.items():\n",
    "            setattr(obj, key, value)\n",
    "        return "
   ]
  },
  {
   "cell_type": "markdown",
   "id": "e7f22926",
   "metadata": {},
   "source": [
    "### 1.2. Train Estimators"
   ]
  },
  {
   "cell_type": "code",
   "execution_count": 41,
   "id": "48becff9",
   "metadata": {},
   "outputs": [],
   "source": [
    "PARAM_GRID = {\n",
    "    'n_estimators': [100],\n",
    "    'max_depth': [2, 4],\n",
    "    'lambda': [1., 10.]\n",
    "}"
   ]
  },
  {
   "cell_type": "code",
   "execution_count": 65,
   "id": "ad823a73",
   "metadata": {},
   "outputs": [
    {
     "name": "stdout",
     "output_type": "stream",
     "text": [
      "Tuning outcome model...\n",
      "Best hyperparameters for outcome model:\n",
      "{'lambda': 10.0, 'max_depth': 2, 'n_estimators': 100}\n",
      "Tuning propensity model...\n",
      "Best hyperparameters for propensity model:\n",
      "{'lambda': 10.0, 'max_depth': 2, 'n_estimators': 100}\n",
      "Tuning treatment effect model...\n",
      "Best hyperparameters for tau model:\n",
      "{'lambda': 10.0, 'max_depth': 2, 'n_estimators': 100}\n"
     ]
    }
   ],
   "source": [
    "outcome_model = XGBRegressor(objective='reg:squarederror')\n",
    "propensity_model = XGBRegressor(objective='reg:logistic')\n",
    "tau_model = XGBRegressor(objective='reg:squarederror')\n",
    "R_learner = RLearner(outcome_model, propensity_model, tau_model)\n",
    "R_learner.tune(X, Y, T,\n",
    "               param_grid_outcome_model=PARAM_GRID,\n",
    "               param_grid_propensity_model=PARAM_GRID,\n",
    "               param_grid_tau_model=PARAM_GRID)\n",
    "R_learner.fit(X, Y, T)\n",
    "R_te = R_learner.predict(X_test)"
   ]
  },
  {
   "cell_type": "markdown",
   "id": "3744a529",
   "metadata": {},
   "source": [
    "### 1.3. Visual Comparisons"
   ]
  },
  {
   "cell_type": "code",
   "execution_count": 62,
   "id": "12b8ecfa",
   "metadata": {},
   "outputs": [
    {
     "data": {
      "image/png": "[encoded data removed]",
      "text/plain": [
       "<Figure size 700x500 with 1 Axes>"
      ]
     },
     "metadata": {},
     "output_type": "display_data"
    }
   ],
   "source": [
    "### Comparison plot of the different learners\n",
    "plt.figure(figsize=(7, 5))\n",
    "plt.plot(X_test[:, 1], np.apply_along_axis(treatment_effect, 1, X_test), color='black', ls='--', label='Baseline')\n",
    "plt.scatter(X_test[:, 1], R_te, label=\"R-learner\")\n",
    "plt.xlabel('$x_1$')\n",
    "plt.ylabel('Treatment Effect')\n",
    "plt.legend()\n",
    "plt.show()"
   ]
  },
  {
   "cell_type": "code",
   "execution_count": 63,
   "id": "d1d412c5",
   "metadata": {},
   "outputs": [
    {
     "data": {
      "image/png": "[encoded data removed]",
      "text/plain": [
       "<Figure size 640x480 with 1 Axes>"
      ]
     },
     "metadata": {},
     "output_type": "display_data"
    }
   ],
   "source": [
    "# Visualization of bias distribution\n",
    "expected_te = np.apply_along_axis(treatment_effect, 1, X_test)\n",
    "plt.violinplot([np.abs(R_te - expected_te)], showmeans=True)\n",
    "plt.ylabel(\"Bias distribution\")\n",
    "plt.xticks([1], ['R-learner'])\n",
    "plt.show()"
   ]
  },
  {
   "cell_type": "markdown",
   "id": "cab06465",
   "metadata": {},
   "source": [
    "## 2. Example Usage with Semi-synthetic Data"
   ]
  },
  {
   "cell_type": "markdown",
   "id": "60081bcb",
   "metadata": {},
   "source": [
    "### 2.1. DGP\n",
    "\n",
    "We use the Response Surface B from [Hill (2011)](https://www.tandfonline.com/doi/pdf/10.1198/jcgs.2010.08162) to generate sythetic outcome surfaces from real-world covariates and treatment assignments (Infant Health Development Program data). Since the original data was part of a randomized trial, a subset of the treated infants (those with non-white mothers) has been removed from the data in order to mimic the observational data setting. For more details, see [Hill (2011)](https://www.tandfonline.com/doi/pdf/10.1198/jcgs.2010.08162).\n",
    "\n",
    "\n",
    "The DGP is described by the following equations:\n",
    "\n",
    "$\n",
    "Y(0) = e^{(X+W)\\beta} + \\epsilon_0, \\;\\epsilon_0 \\sim N(0, 1)\\\\\n",
    "Y(1) = X\\beta - \\omega + \\epsilon_1, \\;\\epsilon_1 \\sim N(0, 1)\\\\\n",
    "$\n",
    "\n",
    "where $X$ is a covariate matrix, $W$ is a constant matrix with entries equal to $0.5$ and $w$ is a constant calculated such that the CATT equals $4$."
   ]
  },
  {
   "cell_type": "code",
   "execution_count": 35,
   "id": "be149367",
   "metadata": {},
   "outputs": [],
   "source": [
    "Y, T, X, expected_te = generate_data_example2(seed=123)"
   ]
  },
  {
   "cell_type": "code",
   "execution_count": 37,
   "id": "38dc8bb7",
   "metadata": {},
   "outputs": [],
   "source": [
    "# R-learner\n",
    "R_learner.fit(X, Y, T)\n",
    "R_te = R_learner.predict(X)"
   ]
  },
  {
   "cell_type": "markdown",
   "id": "f2e827ce",
   "metadata": {},
   "source": [
    "### 2.3. Visual Comparisons"
   ]
  },
  {
   "cell_type": "code",
   "execution_count": 38,
   "id": "085f9c90",
   "metadata": {},
   "outputs": [
    {
     "data": {
      "image/png": "[encoded data removed]",
      "text/plain": [
       "<Figure size 640x480 with 1 Axes>"
      ]
     },
     "metadata": {},
     "output_type": "display_data"
    }
   ],
   "source": [
    "# Visualization of bias distribution\n",
    "plt.violinplot([np.abs(R_te - expected_te)], showmeans=True)\n",
    "plt.ylabel(\"Bias distribution\")\n",
    "plt.xticks([1], ['R-learner'])\n",
    "plt.show()"
   ]
  },
  {
   "cell_type": "code",
   "execution_count": null,
   "id": "353af00f",
   "metadata": {},
   "outputs": [],
   "source": []
  }
 ],
 "metadata": {
  "kernelspec": {
   "display_name": "env_rlearner",
   "language": "python",
   "name": "env_rlearner"
  },
  "language_info": {
   "codemirror_mode": {
    "name": "ipython",
    "version": 3
   },
   "file_extension": ".py",
   "mimetype": "text/x-python",
   "name": "python",
   "nbconvert_exporter": "python",
   "pygments_lexer": "ipython3",
   "version": "3.9.2"
  }
 },
 "nbformat": 4,
 "nbformat_minor": 5
}
